{
 "cells": [
  {
   "cell_type": "code",
   "execution_count": 19,
   "metadata": {},
   "outputs": [
    {
     "name": "stdout",
     "output_type": "stream",
     "text": [
      "Nama    :  Saila Julia\n",
      "Kelas   :  22E\n",
      "Jurusan :  Teknik Informatika\n",
      "Quotes  :  Nothing will never be like before\n",
      "\n",
      "============================================\n",
      "tipe data dari nama    =  <class 'str'>\n",
      "tipe data dari kelas   =  <class 'str'>\n",
      "tipe data dari jurusan =  <class 'str'>\n",
      "tipe data dari quotes  =  <class 'str'>\n"
     ]
    }
   ],
   "source": [
    "nama    = \"Saila Julia\"\n",
    "kelas   = \"22E\"\n",
    "jurusan = \"Teknik Informatika\"\n",
    "quotes  = \"Nothing will never be like before\"\n",
    "\n",
    "print(\"Nama    : \",nama)\n",
    "print(\"Kelas   : \",kelas)\n",
    "print(\"Jurusan : \",jurusan)\n",
    "print(\"Quotes  : \",quotes)\n",
    "\n",
    "print(\"\\n============================================\")\n",
    "\n",
    "print(\"tipe data dari nama    = \",type(nama))\n",
    "print(\"tipe data dari kelas   = \",type(kelas))\n",
    "print(\"tipe data dari jurusan = \",type(jurusan))\n",
    "print(\"tipe data dari quotes  = \",type(quotes))"
   ]
  }
 ],
 "metadata": {
  "kernelspec": {
   "display_name": "Python 3",
   "language": "python",
   "name": "python3"
  },
  "language_info": {
   "codemirror_mode": {
    "name": "ipython",
    "version": 3
   },
   "file_extension": ".py",
   "mimetype": "text/x-python",
   "name": "python",
   "nbconvert_exporter": "python",
   "pygments_lexer": "ipython3",
   "version": "3.8.5"
  }
 },
 "nbformat": 4,
 "nbformat_minor": 4
}
